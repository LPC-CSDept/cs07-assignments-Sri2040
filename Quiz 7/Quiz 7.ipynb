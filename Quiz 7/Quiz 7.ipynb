{
 "cells": [
  {
   "cell_type": "code",
   "execution_count": 2,
   "metadata": {},
   "outputs": [
    {
     "name": "stdout",
     "output_type": "stream",
     "text": [
      "Question #1\n",
      "\n",
      "header: ['ID', 'Name', 'Scores']\n",
      "id: [1001.0, 1002.0, 1003.0, 1004.0, 1005.0]\n",
      "name: ['Kim', 'Bill', 'Mary', 'Kurt', 'Amy']\n",
      "scores: [[100.0, 80.0, 70.0, 60.0], [100.0, 90.0, 80.0, 60.0], [90.0, 80.0, 70.0, 100.0], [100.0, 100.0, 100.0, 90.0], [100.0, 80.0, 80.0, 90.0]]\n"
     ]
    }
   ],
   "source": [
    "import xlrd\n",
    "import functools\n",
    "file_location = 'student.xls'\n",
    "\n",
    "def printValues(x):\n",
    "  for i in x:\n",
    "    print(int(i[\"ID\"]), end=\" \")\n",
    "    print(i[\"Name\"], end= \" \")\n",
    "    print(i[\"Scores\"])\n",
    "  \n",
    "work_book = xlrd.open_workbook(file_location)\n",
    "sheet = work_book.sheet_by_index(0)\n",
    "\n",
    "total_rows = sheet.nrows\n",
    "total_columns = sheet.ncols\n",
    "header = []\n",
    "id = []\n",
    "name = []\n",
    "scores = []\n",
    "for i in range(total_rows):\n",
    "  points = []\n",
    "  for j in range(total_columns):\n",
    "    if(sheet.cell_value(i,j)):\n",
    "      if(i == 0):   \n",
    "          header.append(sheet.cell_value(i,j))\n",
    "      elif(j == 0):\n",
    "        id.append(sheet.cell_value(i,j))\n",
    "      elif(j == 1):\n",
    "        name.append(sheet.cell_value(i,j))\n",
    "      else:\n",
    "        points.append(sheet.cell_value(i,j))\n",
    "  if(points):\n",
    "    scores.append(points)\n",
    "print(\"Question #1\\n\")\n",
    "print(\"header:\",header)\n",
    "print(\"id:\",id)\n",
    "print(\"name:\",name)\n",
    "print(\"scores:\",scores)"
   ]
  },
  {
   "cell_type": "code",
   "execution_count": 3,
   "metadata": {},
   "outputs": [
    {
     "name": "stdout",
     "output_type": "stream",
     "text": [
      "\n",
      "Question #2\n",
      "\n",
      "1001 Kim [100.0, 80.0, 70.0, 60.0]\n",
      "1002 Bill [100.0, 90.0, 80.0, 60.0]\n",
      "1003 Mary [90.0, 80.0, 70.0, 100.0]\n",
      "1004 Kurt [100.0, 100.0, 100.0, 90.0]\n",
      "1005 Amy [100.0, 80.0, 80.0, 90.0]\n"
     ]
    }
   ],
   "source": [
    "finalarr = []\n",
    "for i in range(len(name)):\n",
    "  ziparr = [id[i], name[i], scores[i]]\n",
    "  finalarr.append(dict(zip(header, ziparr)))\n",
    "\n",
    "print(\"\\nQuestion #2\\n\")\n",
    "printValues(finalarr)\n",
    "\n"
   ]
  },
  {
   "cell_type": "code",
   "execution_count": 4,
   "metadata": {},
   "outputs": [
    {
     "name": "stdout",
     "output_type": "stream",
     "text": [
      "\n",
      "Question #3\n",
      "\n",
      "1001 Kim [100.0, 80.0, 70.0, 60.0]\n",
      "1002 Bill [100.0, 90.0, 80.0, 60.0]\n",
      "1003 Mary [90.0, 80.0, 70.0, 100.0]\n",
      "1004 Kurt [100.0, 100.0, 100.0, 90.0]\n",
      "1005 Amy [100.0, 80.0, 80.0, 90.0]\n"
     ]
    }
   ],
   "source": [
    "theLambda = lambda x : sum(x[\"Scores\"]) > 280\n",
    "greaterThan280 = list(filter(theLambda, finalarr))\n",
    "\n",
    "print(\"\\nQuestion #3\\n\")\n",
    "printValues(greaterThan280)\n",
    "\n"
   ]
  },
  {
   "cell_type": "code",
   "execution_count": 12,
   "metadata": {},
   "outputs": [
    {
     "name": "stdout",
     "output_type": "stream",
     "text": [
      "\n",
      "Question #4\n",
      "\n",
      "10001001 Kim 310.0\n",
      "10001002 Bill 330.0\n",
      "10001003 Mary 340.0\n",
      "10001004 Kurt 390.0\n",
      "10001005 Amy 350.0\n"
     ]
    }
   ],
   "source": [
    "print(\"\\nQuestion #4\\n\")\n",
    "theLambda = lambda x, y : x+y\n",
    "for i in finalarr:\n",
    "  print(int(i[\"ID\"]), end=\" \")\n",
    "  print(i[\"Name\"], end= \" \")\n",
    "  print((functools.reduce(theLambda, i[\"Scores\"])))\n",
    "\n"
   ]
  },
  {
   "cell_type": "code",
   "execution_count": 6,
   "metadata": {},
   "outputs": [
    {
     "name": "stdout",
     "output_type": "stream",
     "text": [
      "\n",
      "Question #5\n",
      "\n",
      "10001001 Kim [100.0, 80.0, 70.0, 60.0]\n",
      "10001002 Bill [100.0, 90.0, 80.0, 60.0]\n",
      "10001003 Mary [90.0, 80.0, 70.0, 100.0]\n",
      "10001004 Kurt [100.0, 100.0, 100.0, 90.0]\n",
      "10001005 Amy [100.0, 80.0, 80.0, 90.0]\n"
     ]
    }
   ],
   "source": [
    "def theLambda (x):\n",
    "  x[\"ID\"] = int(x[\"ID\"]+10000000)\n",
    "  return x\n",
    "\n",
    "finalarr = list(map(theLambda,finalarr))\n",
    "\n",
    "print(\"\\nQuestion #5\\n\")\n",
    "printValues(finalarr)"
   ]
  }
 ],
 "metadata": {
  "interpreter": {
   "hash": "1b5d107927fe3f7d4cc87601a2cc7b9ddb8a1ff44d6cc479c0295e4853020706"
  },
  "kernelspec": {
   "display_name": "Python 3.9.7 ('base')",
   "language": "python",
   "name": "python3"
  },
  "language_info": {
   "codemirror_mode": {
    "name": "ipython",
    "version": 3
   },
   "file_extension": ".py",
   "mimetype": "text/x-python",
   "name": "python",
   "nbconvert_exporter": "python",
   "pygments_lexer": "ipython3",
   "version": "3.9.7"
  },
  "orig_nbformat": 4
 },
 "nbformat": 4,
 "nbformat_minor": 2
}
