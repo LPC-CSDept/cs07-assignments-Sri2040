{
 "cells": [
  {
   "cell_type": "code",
   "execution_count": 2,
   "metadata": {},
   "outputs": [
    {
     "name": "stdout",
     "output_type": "stream",
     "text": [
      "Enter id of student 1 Enter name of student 1 Enter score number 1 for student 1 Enter score number 2 for student 1 Enter score number 3 for student 1 Enter score number 4 for student 1 Enter id of student 2 Enter name of student 2 Enter score number 1 for student 2 Enter score number 2 for student 2 Enter score number 3 for student 2 Enter score number 4 for student 2 Enter id of student 3 Enter name of student 3 Enter score number 1 for student 3 Enter score number 2 for student 3 Enter score number 3 for student 3 Enter score number 4 for student 3 1001 Kim 100 80 70 60 Total: 310 Avg: 77.5\n",
      "1002 Bill 100 90 80 60 Total: 330 Avg: 82.5\n",
      "1003 Mary 90 80 70 100 Total: 340 Avg: 85.0\n",
      "The student with the highest total score is Mary with an id of 1003\n",
      "The student with the smallest total score is Kim with an id of 1001\n"
     ]
    }
   ],
   "source": [
    "id = []\n",
    "name = []\n",
    "scores = []\n",
    "\n",
    "def getInput():\n",
    "    for i in range(int(input(\"Enter number of students: \"))):\n",
    "        print (\"Enter id of student\", i +1, end= \" \")\n",
    "        id.append(input())\n",
    "        print (\"Enter name of student\", i +1, end= \" \")\n",
    "        name.append(input())\n",
    "        scores.append([])\n",
    "        for j in range(4):\n",
    "            print (\"Enter score number\", j+1, \"for student\", i +1, end= \" \")\n",
    "            scores[-1].append(int(input()))\n",
    "\n",
    "def findHighestScore():\n",
    "    index = 0\n",
    "    smallest = float(\"-inf\")\n",
    "    for i in range(len(scores)):\n",
    "        if (sum(scores[i]) > smallest):\n",
    "            smallest = sum(scores[i])\n",
    "            index = i\n",
    "\n",
    "    return index\n",
    "\n",
    "def findLowestScore():\n",
    "    index = 0 \n",
    "    highest = float(\"inf\")\n",
    "    for i in range(len(scores)):\n",
    "        if (sum(scores[i]) < highest):\n",
    "            highest = sum(scores[i])\n",
    "            index = i\n",
    "    \n",
    "    return index\n",
    "\n",
    "def printAll():\n",
    "  for i in range(len(id)):\n",
    "    scoresStr = \"\"\n",
    "    for j in scores[i]:\n",
    "      scoresStr += str(j) + \" \"\n",
    "    scoresStr = scoresStr[0:-1]\n",
    "    print(id[i], name[i], scoresStr, \"Total:\", sum(scores[i]), \"Avg:\", sum(scores[i])/4)\n",
    "\n",
    "getInput()\n",
    "printAll()\n",
    "highIndex = findHighestScore()\n",
    "print(\"The student with the highest total score is\", name[highIndex], \"with an id of\", id[highIndex])\n",
    "lowIndex = findLowestScore()\n",
    "print(\"The student with the smallest total score is\", name[lowIndex], \"with an id of\", id[lowIndex])\n",
    "\n",
    "\n",
    "\n"
   ]
  },
  {
   "cell_type": "code",
   "execution_count": 3,
   "metadata": {},
   "outputs": [
    {
     "name": "stdout",
     "output_type": "stream",
     "text": [
      "First list:  [1, 2, 4, 5, 6, 10]\n",
      "Second list:  [11, 14, 15, 16, 18]\n",
      "Combined list with the even numbers only:  [2, 4, 6, 10, 14, 16, 18]\n"
     ]
    }
   ],
   "source": [
    "geteven = lambda e : (e % 2 == 0)\n",
    "\n",
    "def getmerged(list1, list2):\n",
    "    for i in (list1):\n",
    "        if (geteven(i)):\n",
    "            yield (i)\n",
    "    \n",
    "    for i in (list2):\n",
    "        if (geteven(i)):\n",
    "            yield (i)\n",
    "    \n",
    "\n",
    "lst1 = [1, 2, 4, 5, 6, 10]\n",
    "lst2 = [11, 14, 15, 16, 18]\n",
    "ans= []\n",
    "\n",
    "print (\"First list: \", lst1)\n",
    "print (\"Second list: \", lst2)\n",
    "\n",
    "for i in (getmerged(lst1, lst2)):\n",
    "    ans.append(i)\n",
    "\n",
    "print (\"Combined list with the even numbers only: \", ans)\n"
   ]
  }
 ],
 "metadata": {
  "interpreter": {
   "hash": "1b5d107927fe3f7d4cc87601a2cc7b9ddb8a1ff44d6cc479c0295e4853020706"
  },
  "kernelspec": {
   "display_name": "Python 3.9.7 ('base')",
   "language": "python",
   "name": "python3"
  },
  "language_info": {
   "codemirror_mode": {
    "name": "ipython",
    "version": 3
   },
   "file_extension": ".py",
   "mimetype": "text/x-python",
   "name": "python",
   "nbconvert_exporter": "python",
   "pygments_lexer": "ipython3",
   "version": "3.9.7"
  },
  "orig_nbformat": 4
 },
 "nbformat": 4,
 "nbformat_minor": 2
}
